{
 "cells": [
  {
   "cell_type": "code",
   "execution_count": 1,
   "metadata": {},
   "outputs": [
    {
     "name": "stderr",
     "output_type": "stream",
     "text": [
      "/home/redve/Kurser Master/ID2223 Scalable Machine Learning and Deep Learning/ID2223/Lab1/Task2/venv/lib64/python3.10/site-packages/tqdm/auto.py:21: TqdmWarning: IProgress not found. Please update jupyter and ipywidgets. See https://ipywidgets.readthedocs.io/en/stable/user_install.html\n",
      "  from .autonotebook import tqdm as notebook_tqdm\n"
     ]
    }
   ],
   "source": [
    "import hopsworks\n",
    "import pandas as pd\n",
    "from sklearn.neighbors import KNeighborsClassifier\n",
    "from sklearn.ensemble import RandomForestClassifier\n",
    "from sklearn.metrics import accuracy_score\n",
    "from sklearn.metrics import confusion_matrix\n",
    "from sklearn.metrics import classification_report\n",
    "import seaborn as sns\n",
    "from matplotlib import pyplot\n",
    "from hsml.schema import Schema\n",
    "from hsml.model_schema import ModelSchema\n",
    "import joblib\n",
    "import os"
   ]
  },
  {
   "cell_type": "code",
   "execution_count": 2,
   "metadata": {},
   "outputs": [
    {
     "name": "stdout",
     "output_type": "stream",
     "text": [
      "HOPSWORKS_API_KEY=RJFCr0ixzSbcbtDM.awhoHRF08thPKMBz0x6BoX5piWGyY3DnGXfBKY3X4pCYQjxy6ypwNycQYbwPQgqj\n"
     ]
    }
   ],
   "source": [
    "import os\n",
    "\n",
    "for k, v in os.environ.items():\n",
    "    if \"HOPS\" in k:\n",
    "        print(f'{k}={v}')"
   ]
  },
  {
   "cell_type": "code",
   "execution_count": 3,
   "metadata": {},
   "outputs": [
    {
     "name": "stdout",
     "output_type": "stream",
     "text": [
      "Connected. Call `.close()` to terminate connection gracefully.\n",
      "\n",
      "Logged in to project, explore it here https://c.app.hopsworks.ai:443/p/190613\n",
      "Connected. Call `.close()` to terminate connection gracefully.\n"
     ]
    }
   ],
   "source": [
    "# You have to set the environment variable 'HOPSWORKS_API_KEY' for login to succeed\n",
    "project = hopsworks.login()\n",
    "fs = project.get_feature_store()"
   ]
  },
  {
   "cell_type": "code",
   "execution_count": 10,
   "metadata": {},
   "outputs": [],
   "source": [
    "wine_fg1 = fs.get_feature_group(name=\"winequality\", version=15)\n",
    "query1 = wine_fg1.select_all()\n",
    "feature_view1 = fs.get_or_create_feature_view(name=\"winequality\",\n",
    "                                             version=15,\n",
    "                                             description=\"Read from winequality feature group\",\n",
    "                                             labels=[\"quality\"],\n",
    "                                             query=query1)\n",
    "\n",
    "# Read the data"
   ]
  },
  {
   "cell_type": "code",
   "execution_count": 27,
   "metadata": {},
   "outputs": [
    {
     "name": "stdout",
     "output_type": "stream",
     "text": [
      "Finished: Reading data from Hopsworks, using ArrowFlight (10.32s) \n"
     ]
    },
    {
     "name": "stderr",
     "output_type": "stream",
     "text": [
      "VersionWarning: Incremented version to `12`.\n"
     ]
    }
   ],
   "source": [
    "x_train, x_test, y_train, y_test = feature_view1.train_test_split(test_size=0.2)"
   ]
  },
  {
   "cell_type": "code",
   "execution_count": 37,
   "metadata": {},
   "outputs": [],
   "source": [
    "## Populate x_train['white'] if the value of type is 1 \n",
    "\n",
    "for (idx, row) in x_train.iterrows():\n",
    "    if row['type'] == 1:\n",
    "        x_train.loc[idx, 'white'] = 1\n",
    "        x_train.loc[idx, 'red'] = 0\n",
    "    else:\n",
    "        x_train.loc[idx, 'white'] = 0\n",
    "        x_train.loc[idx, 'red'] = 1\n",
    "for (idx,row) in x_test.iterrows():\n",
    "    if row['type'] == 1:\n",
    "        x_test.loc[idx, 'white'] = 1\n",
    "        x_test.loc[idx, 'red'] = 0\n",
    "    else:\n",
    "        x_test.loc[idx, 'white'] = 0\n",
    "        x_test.loc[idx, 'red'] = 1\n",
    "\n"
   ]
  },
  {
   "cell_type": "code",
   "execution_count": 43,
   "metadata": {},
   "outputs": [],
   "source": [
    "train_set = pd.concat([x_train, y_train], axis=1)\n",
    "train_set.head()\n",
    "test_set = pd.concat([x_test, y_test], axis=1)\n",
    "test_set.head()\n",
    "train_set.drop(['type'], axis=1, inplace=True)\n",
    "test_set.drop(['type'], axis=1, inplace=True)\n",
    "train_set_y = train_set['quality']\n",
    "train_set_x = train_set.drop(['quality'], axis=1)\n",
    "test_set_y = test_set['quality']\n",
    "test_set_x = test_set.drop(['quality'], axis=1)"
   ]
  },
  {
   "cell_type": "code",
   "execution_count": 47,
   "metadata": {},
   "outputs": [],
   "source": [
    "from sklearn.preprocessing import MinMaxScaler\n",
    "scaler = MinMaxScaler()\n",
    "scaler.fit(train_set_x)\n",
    "train_set_x = scaler.transform(train_set_x)\n",
    "test_set_x = scaler.transform(test_set_x)\n"
   ]
  },
  {
   "cell_type": "code",
   "execution_count": 52,
   "metadata": {},
   "outputs": [
    {
     "name": "stdout",
     "output_type": "stream",
     "text": [
      "Random Forest Classifier Score:  0.5787992495309568\n"
     ]
    }
   ],
   "source": [
    "from sklearn.ensemble import RandomForestClassifier\n",
    "from sklearn.metrics import classification_report\n",
    "#creating RandomForestClassifier constructor\n",
    "random_value = 42   \n",
    "rnd = RandomForestClassifier(n_estimators=100, random_state=random_value)\n",
    "fit_rnd = rnd.fit(train_set_x,train_set_y.values.ravel())\n",
    "rnd_score = rnd.score(test_set_x,test_set_y.values.ravel())\n",
    "print(\"Random Forest Classifier Score: \",rnd_score)"
   ]
  },
  {
   "cell_type": "code",
   "execution_count": null,
   "metadata": {},
   "outputs": [],
   "source": []
  },
  {
   "cell_type": "code",
   "execution_count": null,
   "metadata": {},
   "outputs": [],
   "source": [
    "\n",
    "mr = project.get_model_registry()\n",
    "\n",
    "\n",
    "model_dir=\"wine_model\"\n",
    "if os.path.isdir(model_dir) == False:\n",
    "    os.mkdir(model_dir)\n",
    "\n",
    "joblib.dump(model, model_dir + \"/wine_model.pkl\")\n",
    "plt.savefig(model_dir + \"/confusion_matrix.png\")\n",
    "\n",
    "input_schema = Schema(x_train)\n",
    "output_schema = Schema(y_train)\n",
    "model_schema = ModelSchema(input_schema, output_schema)\n",
    "\n",
    "wine_model = mr.python.create_model(\n",
    "    name=\"wine_model\", \n",
    "    metrics={\"accuracy\" : score},\n",
    "    model_schema=model_schema,\n",
    "    description=\"Wine Quality Predictor\"\n",
    ")\n",
    "\n",
    "\n",
    "wine_model.save(model_dir)\n"
   ]
  }
 ],
 "metadata": {
  "kernelspec": {
   "display_name": "venv",
   "language": "python",
   "name": "python3"
  },
  "language_info": {
   "codemirror_mode": {
    "name": "ipython",
    "version": 3
   },
   "file_extension": ".py",
   "mimetype": "text/x-python",
   "name": "python",
   "nbconvert_exporter": "python",
   "pygments_lexer": "ipython3",
   "version": "3.10.13"
  }
 },
 "nbformat": 4,
 "nbformat_minor": 4
}
