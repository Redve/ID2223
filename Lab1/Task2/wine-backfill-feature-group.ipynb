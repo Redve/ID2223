{
 "cells": [
  {
   "cell_type": "markdown",
   "metadata": {},
   "source": [
    "#Import the right libraries"
   ]
  },
  {
   "cell_type": "code",
   "execution_count": null,
   "metadata": {},
   "outputs": [],
   "source": [
    "import seaborn as sns\n",
    "sns.set_palette('husl')\n",
    "import matplotlib.pyplot as plt\n",
    "%matplotlib inline"
   ]
  },
  {
   "cell_type": "code",
   "execution_count": null,
   "metadata": {},
   "outputs": [],
   "source": [
    "import hopsworks\n",
    "import pandas as pd"
   ]
  },
  {
   "cell_type": "code",
   "execution_count": null,
   "metadata": {},
   "outputs": [],
   "source": [
    "project = hopsworks.login()\n",
    "fs = project.get_feature_store()"
   ]
  },
  {
   "cell_type": "code",
   "execution_count": null,
   "metadata": {},
   "outputs": [],
   "source": [
    "wine_df = pd.read_csv('https://raw.githubusercontent.com/ID2223KTH/id2223kth.github.io/master/assignments/lab1/wine.csv')\n",
    "wine_df \n"
   ]
  },
  {
   "cell_type": "markdown",
   "metadata": {},
   "source": [
    "# Transform column names into valid names   "
   ]
  },
  {
   "cell_type": "code",
   "execution_count": null,
   "metadata": {},
   "outputs": [],
   "source": [
    "wine_df.columns = wine_df.columns.str.replace(' ', '_')\n",
    "wine_df.columns = wine_df.columns.str.lower()\n",
    "wine_df\n"
   ]
  },
  {
   "cell_type": "markdown",
   "metadata": {},
   "source": [
    "## Seperate dataframe into features and labels so that we can do standardization"
   ]
  },
  {
   "cell_type": "code",
   "execution_count": null,
   "metadata": {},
   "outputs": [],
   "source": [
    "y_wine = wine_df['quality']\n",
    "X_wine = wine_df.drop(['quality'], axis=1)"
   ]
  },
  {
   "cell_type": "markdown",
   "metadata": {},
   "source": [
    "## Plot to understand the distribution of the labels"
   ]
  },
  {
   "cell_type": "code",
   "execution_count": null,
   "metadata": {},
   "outputs": [],
   "source": [
    "import matplotlib.pyplot as plt\n",
    "import seaborn as sns\n",
    "\n",
    "# Assuming 'df' is your DataFrame and 'label_column' is the column you want to visualize\n",
    "label_column = 'quality'\n",
    "sns.set(style=\"whitegrid\")  # Set the style for seaborn\n",
    "\n",
    "# Count the occurrences of each unique value in the label column\n",
    "label_counts = wine_df['quality'].value_counts()\n",
    "\n",
    "# Create a bar plot\n",
    "plt.figure(figsize=(10, 6))  # Adjust the figure size if needed\n",
    "ax = sns.barplot(x=label_counts.index, y=label_counts.values, palette=\"viridis\")\n",
    "\n",
    "# Add labels and title\n",
    "plt.xlabel('Label')\n",
    "plt.ylabel('Count')\n",
    "plt.title('Distribution of ' + label_column)\n",
    "\n",
    "\n",
    "\n",
    "\n",
    "# Show the plot\n",
    "plt.show()\n",
    "\n",
    "wine_df['quality'].value_counts()"
   ]
  },
  {
   "cell_type": "markdown",
   "metadata": {},
   "source": [
    "# Clean up all na and process all catergorial data"
   ]
  },
  {
   "cell_type": "code",
   "execution_count": null,
   "metadata": {},
   "outputs": [],
   "source": [
    "from sklearn.preprocessing import LabelEncoder\n",
    "\n",
    "label_encoder = LabelEncoder()\n",
    "#I only want to encode the first column\n",
    "X_wine['type'] = label_encoder.fit_transform(X_wine['type'])\n",
    "X_wine.head(-5)\n",
    "\n",
    "wine_df_cleaned = pd.concat([X_wine, y_wine], axis=1)\n",
    "wine_df_cleaned.head(-5)\n",
    "wine_df = wine_df_cleaned\n",
    "wine_df.fillna(0, inplace=True)\n",
    "\n",
    "wine_df\n",
    "\n",
    "print(wine_df.isna().sum())\n",
    "\n",
    "wine_df.head()\n",
    "\n"
   ]
  },
  {
   "cell_type": "markdown",
   "metadata": {},
   "source": []
  },
  {
   "cell_type": "code",
   "execution_count": null,
   "metadata": {},
   "outputs": [],
   "source": [
    "from sklearn.preprocessing import StandardScaler , MinMaxScaler\n",
    "\n",
    "# Create a StandardScaler object\n",
    "#normalize the data\n",
    "\n",
    "y_wine = wine_df['quality']\n",
    "x_wine = wine_df.drop(['quality'], axis=1)\n",
    "\n",
    "\n",
    "#I want to add y_wine to the last column of X_wine_standard\n",
    "# Wine_standard['quality'] = y_wine\n",
    "Wine_standard = x_wine\n",
    "\n",
    "\n",
    "#compute the ratio of the free_sulfur_dioxide to total_sulfur_dioxide and call the column ratio_sulfur_dioxide\n",
    "Wine_standard['ratio_sulfur_dioxide'] = Wine_standard['free_sulfur_dioxide']/Wine_standard['total_sulfur_dioxide']\n",
    "\n",
    "#compute the skew of the features and call the column skewness\n",
    "Wine_standard['skewness'] = Wine_standard.skew(axis = 1, skipna = True)\n",
    "\n",
    "#compute the kurtosis of the features and call the column kurtosis\n",
    "Wine_standard['kurtosis'] = Wine_standard.kurtosis(axis = 1, skipna = True)\n",
    "\n",
    "#compute the mean of the features and call the column mean\n",
    "Wine_standard['mean'] = Wine_standard.mean(axis = 1, skipna = True)\n",
    "\n",
    "#compute the median of the features and call the column median\n",
    "Wine_standard['median'] = Wine_standard.median(axis = 1, skipna = True)\n",
    "\n",
    "#compute the variance of the features and call the column variance\n",
    "Wine_standard['variance'] = Wine_standard.var(axis = 1, skipna = True)\n",
    "\n",
    "#compute the standard deviation of the features and call the column std\n",
    "Wine_standard['std'] = Wine_standard.std(axis = 1, skipna = True)\n",
    "\n",
    "#compute the coefficient of variation of the features and call the column cv\n",
    "Wine_standard['cv'] = Wine_standard.std(axis = 1, skipna = True)/Wine_standard.mean(axis = 1, skipna = True)\n",
    "\n",
    "#compute the range of the features and call the column range\n",
    "Wine_standard['range'] = Wine_standard.max(axis = 1, skipna = True) - Wine_standard.min(axis = 1, skipna = True)\n",
    "\n",
    "#compute the interquartile range of the features and call the column iqr\n",
    "Wine_standard['iqr'] = Wine_standard.quantile(q=0.75, axis=1) - Wine_standard.quantile(q=0.25, axis=1)\n",
    "#compute the covariance of the features and call the column covariance\n",
    "\n",
    "scaler = StandardScaler()\n",
    "\n",
    "Wine = scaler.fit(Wine_standard)\n",
    "new_Wine = Wine.transform(Wine_standard)\n",
    "Wine_upload = pd.DataFrame(new_Wine, columns=Wine_standard.columns)\n",
    "\n",
    "Wine_upload\n",
    "\n",
    "Wine_upload.head(6400)\n",
    "\n",
    "\n"
   ]
  },
  {
   "cell_type": "markdown",
   "metadata": {},
   "source": [
    "## Test train a model\n",
    "Test train a RandomForestClassifier to se the score"
   ]
  },
  {
   "cell_type": "code",
   "execution_count": null,
   "metadata": {},
   "outputs": [],
   "source": [
    "from sklearn.model_selection import train_test_split\n",
    "\n",
    "# Split the data into training and test sets\n",
    "X_train, X_test, y_train, y_test = train_test_split(Wine_upload, y_wine, test_size=0.2)"
   ]
  },
  {
   "cell_type": "code",
   "execution_count": null,
   "metadata": {},
   "outputs": [],
   "source": [
    "from sklearn.ensemble import RandomForestClassifier\n",
    "from sklearn.metrics import classification_report\n",
    "#creating RandomForestClassifier constructor\n",
    "rnd = RandomForestClassifier()\n",
    "fit_rnd = rnd.fit(X_train,y_train)\n",
    "rnd_score = rnd.score(X_test,y_test)\n",
    "print(\"Random Forest Classifier Score: \",rnd_score)"
   ]
  },
  {
   "cell_type": "code",
   "execution_count": null,
   "metadata": {},
   "outputs": [],
   "source": [
    "from sklearn.decomposition import PCA\n",
    "import numpy as np\n",
    "n = 20\n",
    "pca = PCA(n_components=n) # doing pca and keeping only n_components\n",
    "pca = pca.fit(x) # the correct dimension of X for sklearn is P*N (samples*features)\n",
    "X_pca_skl = pca.transform(x)\n",
    "#X2 = pca.inverse_transform(X_pca_skl)\n",
    "import matplotlib.pyplot as plt\n",
    "plt.bar(range(0,n), pca.explained_variance_ratio_, label=\"individual var\");\n",
    "plt.step(range(0,n), np.cumsum(pca.explained_variance_ratio_),'r', label=\"cumulative var\");\n",
    "plt.xlabel('Principal component index'); plt.ylabel('explained variance ratio %');\n",
    "plt.legend()\n",
    "print(X_pca_skl.shape)\n",
    "print(x.shape)\n",
    "#print(X1)\n",
    "#print(X1-X2)"
   ]
  },
  {
   "cell_type": "code",
   "execution_count": null,
   "metadata": {},
   "outputs": [],
   "source": [
    "x_train,x_test,y_train,y_test = train_test_split(x,y,test_size=0.2,random_state=40)\n",
    "\n"
   ]
  },
  {
   "cell_type": "code",
   "execution_count": null,
   "metadata": {},
   "outputs": [],
   "source": [
    "from sklearn.linear_model import LogisticRegression\n",
    "from sklearn import svm, datasets\n",
    "import matplotlib.pyplot as plt\n",
    "import seaborn as sns\n",
    "from sklearn import metrics\n",
    "from sklearn.metrics import accuracy_score\n",
    "from sklearn.metrics import confusion_matrix\n",
    "\n",
    "\n",
    "\n",
    "\n",
    "def model_evaluation(model, x_train, x_test, y_train, y_test):\n",
    "    model.fit(x_train, y_train.values.ravel())\n",
    "    predictions = model.predict(x_test)\n",
    "    print(\"Accuracy score: %.2f\" % accuracy_score(y_test, predictions))\n",
    "    print(confusion_matrix(y_test, predictions))\n",
    "    score = model.score(x_test, y_test)\n",
    "\n",
    "    cm = metrics.confusion_matrix(y_test, predictions)\n",
    "    print(cm)\n",
    "\n",
    "    plt.figure(figsize=(4, 4))\n",
    "    sns.heatmap(cm, annot=True, fmt=\".0f\", linewidths=.5,\n",
    "                square=True, cmap='Blues_r')\n",
    "    plt.ylabel('Actual label')\n",
    "    plt.xlabel('Predicted label')\n",
    "    all_sample_title = 'Accuracy Score: {0}'.format(score)\n",
    "    plt.title(all_sample_title, size=10)\n",
    "    return score"
   ]
  },
  {
   "cell_type": "code",
   "execution_count": null,
   "metadata": {},
   "outputs": [],
   "source": [
    "from sklearn.ensemble import RandomForestClassifier\n",
    "\n",
    "model = RandomForestClassifier()\n",
    "model_evaluation(model, x_train, x_test, y_train, y_test)"
   ]
  },
  {
   "cell_type": "code",
   "execution_count": null,
   "metadata": {},
   "outputs": [],
   "source": [
    "#LogisticRegression with max iterations\n",
    "from sklearn.linear_model import SGDClassifier\n",
    "model = LogisticRegression(max_iter=10000)\n",
    "model = SGDClassifier()\n",
    "model = svm.SVC()\n",
    "model_evaluation(model, x_train, x_test, y_train, y_test)"
   ]
  },
  {
   "cell_type": "code",
   "execution_count": null,
   "metadata": {},
   "outputs": [],
   "source": [
    "wine_df.info()\n",
    "wine_df.head()"
   ]
  },
  {
   "cell_type": "code",
   "execution_count": null,
   "metadata": {},
   "outputs": [],
   "source": [
    "Wine_upload['quality'] = y_wine\n",
    "Wine_upload.info()\n",
    "# I want to split the dataframe into two halvs and upload them to the feature store\n",
    "Wine_upload1 = Wine_upload.iloc[0:3200]\n",
    "Wine_upload2 = Wine_upload.iloc[3200:6496]\n",
    "print(Wine_upload1.info())\n",
    "print(Wine_upload2.info())\n",
    "# wine_fg = fs.get_or_create_feature_group(name='winequality1'\n",
    "#                                            ,version='1'\n",
    "#                                            ,primary_key=['type','fixed_acidity','volatile_acidity','citric_acid','residual_sugar','chlorides','free_sulfur_dioxide','total_sulfur_dioxide','density','ph','sulphates','alcohol','ratio_sulfur_dioxide','skewness','kurtosis','mean','median','variance','std','cv','range','iqr']\n",
    "#                                             ,description='wine quality')\n",
    "# wine_fg.insert(Wine_upload1)\n",
    "# wine_fg = fs.get_or_create_feature_group(name='winequality2'\n",
    "#                                            ,version='1'\n",
    "#                                            ,primary_key=['type','fixed_acidity','volatile_acidity','citric_acid','residual_sugar','chlorides','free_sulfur_dioxide','total_sulfur_dioxide','density','ph','sulphates','alcohol','ratio_sulfur_dioxide','skewness','kurtosis','mean','median','variance','std','cv','range','iqr']\n",
    "#                                             ,description='wine quality')\n",
    "# wine_fg.insert(Wine_upload2)\n"
   ]
  },
  {
   "cell_type": "code",
   "execution_count": null,
   "metadata": {},
   "outputs": [],
   "source": [
    "Wine_upload['quality'] = y_wine\n",
    "Wine_upload.info()\n",
    "wine_fg = fs.get_or_create_feature_group(name='winequality'\n",
    "                                           ,version='10'\n",
    "                                           ,primary_key=['type','fixed_acidity','volatile_acidity','citric_acid','residual_sugar','chlorides','free_sulfur_dioxide','total_sulfur_dioxide','density','ph','sulphates','alcohol']\n",
    "                                            ,description='wine quality')\n",
    "wine_fg.insert(Wine_upload)"
   ]
  }
 ],
 "metadata": {
  "kernelspec": {
   "display_name": "Python 3 (ipykernel)",
   "language": "python",
   "name": "python3"
  },
  "language_info": {
   "codemirror_mode": {
    "name": "ipython",
    "version": 3
   },
   "file_extension": ".py",
   "mimetype": "text/x-python",
   "name": "python",
   "nbconvert_exporter": "python",
   "pygments_lexer": "ipython3",
   "version": "3.10.13"
  }
 },
 "nbformat": 4,
 "nbformat_minor": 4
}
